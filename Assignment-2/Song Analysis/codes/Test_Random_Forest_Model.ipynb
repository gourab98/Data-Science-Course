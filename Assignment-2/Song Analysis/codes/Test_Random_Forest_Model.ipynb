{
 "cells": [
  {
   "cell_type": "code",
   "execution_count": 63,
   "metadata": {},
   "outputs": [],
   "source": [
    "import glob                 #To get files from folder\n",
    "import pandas as pd         #To read those files\n",
    "import numpy as np          #To do mathematical operation\n",
    "import os                   #Files manupulation \n",
    "\n",
    "from sklearn.ensemble import RandomForestClassifier\n",
    "from sklearn.naive_bayes import MultinomialNB                       #Model import from sklearn\n",
    "from sklearn.feature_extraction.text import CountVectorizer          \n",
    "from sklearn.model_selection import train_test_split                 \n",
    "from sklearn.metrics import accuracy_score                           #How the classifire works/ How accruate it is!\n",
    "import time                                                          #How much time it take to run\n",
    "import re                                                            #Replacement\n",
    "from sklearn.pipeline import Pipeline                                \n",
    "from sklearn.feature_extraction.text import TfidfTransformer         \n",
    "from sklearn.metrics import confusion_matrix                         #Model description with color \n",
    "import joblib                                                        \n"
   ]
  },
  {
   "cell_type": "code",
   "execution_count": 64,
   "metadata": {},
   "outputs": [
    {
     "data": {
      "text/plain": [
       "21"
      ]
     },
     "execution_count": 64,
     "metadata": {},
     "output_type": "execute_result"
    }
   ],
   "source": [
    "all_file = glob.glob(\"../songData/*.xlsx\")\n",
    "len(all_file)"
   ]
  },
  {
   "cell_type": "code",
   "execution_count": 65,
   "metadata": {},
   "outputs": [
    {
     "data": {
      "text/plain": [
       "'songType10'"
      ]
     },
     "execution_count": 65,
     "metadata": {},
     "output_type": "execute_result"
    }
   ],
   "source": [
    "all_file\n",
    "\n",
    "g = all_file[2]\n",
    "g.split('\\\\')[1][:-5]"
   ]
  },
  {
   "cell_type": "code",
   "execution_count": 66,
   "metadata": {},
   "outputs": [],
   "source": [
    "names = []\n",
    "count = []\n",
    "clusters = []\n",
    "data = []\n",
    "\n",
    "for each in all_file:\n",
    "    temp = pd.read_excel(each,engine='openpyxl')\n",
    "    \n",
    "    \n",
    "    count.append(len(temp))\n",
    "    names.append(each.split('/')[1][:-5])\n",
    "    clusters.append(temp['songType'])\n",
    "    \n",
    "    \n",
    "    data.append(temp)\n",
    "    \n",
    "cluster_ids =clusters    "
   ]
  },
  {
   "cell_type": "code",
   "execution_count": 67,
   "metadata": {},
   "outputs": [
    {
     "data": {
      "text/html": [
       "<div>\n",
       "<style scoped>\n",
       "    .dataframe tbody tr th:only-of-type {\n",
       "        vertical-align: middle;\n",
       "    }\n",
       "\n",
       "    .dataframe tbody tr th {\n",
       "        vertical-align: top;\n",
       "    }\n",
       "\n",
       "    .dataframe thead th {\n",
       "        text-align: right;\n",
       "    }\n",
       "</style>\n",
       "<table border=\"1\" class=\"dataframe\">\n",
       "  <thead>\n",
       "    <tr style=\"text-align: right;\">\n",
       "      <th></th>\n",
       "      <th>Unnamed: 0</th>\n",
       "      <th>lyrics</th>\n",
       "      <th>songType</th>\n",
       "    </tr>\n",
       "  </thead>\n",
       "  <tbody>\n",
       "    <tr>\n",
       "      <th>164</th>\n",
       "      <td>1196</td>\n",
       "      <td>বিশ্ববিদ্যালয়ে সারারাত অবিরাম গোলাগুলি আর পরদ...</td>\n",
       "      <td>13</td>\n",
       "    </tr>\n",
       "    <tr>\n",
       "      <th>699</th>\n",
       "      <td>2918</td>\n",
       "      <td>যদি বন্ধু হও যদি বাড়াও হাত জেনো থামবে ঝড় মুছে ...</td>\n",
       "      <td>1</td>\n",
       "    </tr>\n",
       "    <tr>\n",
       "      <th>192</th>\n",
       "      <td>764</td>\n",
       "      <td>ভালো লাগে না তুমি না এলে কি যে করি বলো দূরে গে...</td>\n",
       "      <td>3</td>\n",
       "    </tr>\n",
       "    <tr>\n",
       "      <th>103</th>\n",
       "      <td>1126</td>\n",
       "      <td>এ কোন মধুর শরাব দিলে আল্‌-আরাবী সাকী নেশায় হলা...</td>\n",
       "      <td>7</td>\n",
       "    </tr>\n",
       "    <tr>\n",
       "      <th>735</th>\n",
       "      <td>3225</td>\n",
       "      <td>তোমার গীতি জাগালো স্মৃতি নয়ন ছলছলিয়া বাদল শেষে...</td>\n",
       "      <td>17</td>\n",
       "    </tr>\n",
       "    <tr>\n",
       "      <th>...</th>\n",
       "      <td>...</td>\n",
       "      <td>...</td>\n",
       "      <td>...</td>\n",
       "    </tr>\n",
       "    <tr>\n",
       "      <th>179</th>\n",
       "      <td>1342</td>\n",
       "      <td>একদিন ঘুম ভাঙ্গা শহরে মায়াবি সন্ধ্যায় চাঁদ জ...</td>\n",
       "      <td>13</td>\n",
       "    </tr>\n",
       "    <tr>\n",
       "      <th>20</th>\n",
       "      <td>328</td>\n",
       "      <td>প্রানের অসুখ সুখ প্রাণের অসুখ ভেংগে দিল সময়ের ...</td>\n",
       "      <td>13</td>\n",
       "    </tr>\n",
       "    <tr>\n",
       "      <th>55</th>\n",
       "      <td>3701</td>\n",
       "      <td>বাঁধা দিও না……না দিও না ও মোর প্রেম, ও মোর প্র...</td>\n",
       "      <td>9</td>\n",
       "    </tr>\n",
       "    <tr>\n",
       "      <th>917</th>\n",
       "      <td>3823</td>\n",
       "      <td>আলোরই ঝলকে চোখেরসই পলকে এই মনের ভালবাসা উঁকি ম...</td>\n",
       "      <td>1</td>\n",
       "    </tr>\n",
       "    <tr>\n",
       "      <th>716</th>\n",
       "      <td>2966</td>\n",
       "      <td>এই বালুকা বেলায় আমি লিখেছিনু একটি সে নাম আমি ল...</td>\n",
       "      <td>1</td>\n",
       "    </tr>\n",
       "  </tbody>\n",
       "</table>\n",
       "<p>4105 rows × 3 columns</p>\n",
       "</div>"
      ],
      "text/plain": [
       "     Unnamed: 0                                             lyrics  songType\n",
       "164        1196  বিশ্ববিদ্যালয়ে সারারাত অবিরাম গোলাগুলি আর পরদ...        13\n",
       "699        2918  যদি বন্ধু হও যদি বাড়াও হাত জেনো থামবে ঝড় মুছে ...         1\n",
       "192         764  ভালো লাগে না তুমি না এলে কি যে করি বলো দূরে গে...         3\n",
       "103        1126  এ কোন মধুর শরাব দিলে আল্‌-আরাবী সাকী নেশায় হলা...         7\n",
       "735        3225  তোমার গীতি জাগালো স্মৃতি নয়ন ছলছলিয়া বাদল শেষে...        17\n",
       "..          ...                                                ...       ...\n",
       "179        1342  একদিন ঘুম ভাঙ্গা শহরে মায়াবি সন্ধ্যায় চাঁদ জ...        13\n",
       "20          328  প্রানের অসুখ সুখ প্রাণের অসুখ ভেংগে দিল সময়ের ...        13\n",
       "55         3701  বাঁধা দিও না……না দিও না ও মোর প্রেম, ও মোর প্র...         9\n",
       "917        3823  আলোরই ঝলকে চোখেরসই পলকে এই মনের ভালবাসা উঁকি ম...         1\n",
       "716        2966  এই বালুকা বেলায় আমি লিখেছিনু একটি সে নাম আমি ল...         1\n",
       "\n",
       "[4105 rows x 3 columns]"
      ]
     },
     "execution_count": 67,
     "metadata": {},
     "output_type": "execute_result"
    }
   ],
   "source": [
    "data = pd.concat(data)\n",
    "data = data.sample(frac =1)\n",
    "\n",
    "data"
   ]
  },
  {
   "cell_type": "code",
   "execution_count": 68,
   "metadata": {},
   "outputs": [
    {
     "data": {
      "text/plain": [
       "164    বিশ্ববিদ্যালয়ে সারারাত অবিরাম গোলাগুলি আর পরদ...\n",
       "699    যদি বন্ধু হও যদি বাড়াও হাত জেনো থামবে ঝড় মুছে ...\n",
       "192    ভালো লাগে না তুমি না এলে কি যে করি বলো দূরে গে...\n",
       "103    এ কোন মধুর শরাব দিলে আল্‌-আরাবী সাকী নেশায় হলা...\n",
       "735    তোমার গীতি জাগালো স্মৃতি নয়ন ছলছলিয়া বাদল শেষে...\n",
       "                             ...                        \n",
       "179    একদিন ঘুম ভাঙ্গা শহরে মায়াবি সন্ধ্যায় চাঁদ জ...\n",
       "20     প্রানের অসুখ সুখ প্রাণের অসুখ ভেংগে দিল সময়ের ...\n",
       "55     বাঁধা দিও না……না দিও না ও মোর প্রেম, ও মোর প্র...\n",
       "917    আলোরই ঝলকে চোখেরসই পলকে এই মনের ভালবাসা উঁকি ম...\n",
       "716    এই বালুকা বেলায় আমি লিখেছিনু একটি সে নাম আমি ল...\n",
       "Name: lyrics, Length: 4105, dtype: object"
      ]
     },
     "execution_count": 68,
     "metadata": {},
     "output_type": "execute_result"
    }
   ],
   "source": [
    "data['lyrics']"
   ]
  },
  {
   "cell_type": "code",
   "execution_count": 69,
   "metadata": {},
   "outputs": [],
   "source": [
    "stopwords = ['হাই', 'ফ্রিকুয়েন্সি', 'কিন্তু', 'অপ্রয়োজনীয়', 'শব্দ', 'অবশ্য']\n",
    "\n"
   ]
  },
  {
   "cell_type": "code",
   "execution_count": 70,
   "metadata": {},
   "outputs": [],
   "source": [
    "data['lyrics'] = data['lyrics'].apply(lambda x: ' '.join([word for word in x.split() if word not in (stopwords)]))"
   ]
  },
  {
   "cell_type": "code",
   "execution_count": 71,
   "metadata": {},
   "outputs": [],
   "source": [
    "X_train, X_test, y_train, y_test =  train_test_split(data['lyrics'], data['songType'], test_size=0.33, random_state=42 )"
   ]
  },
  {
   "cell_type": "code",
   "execution_count": 72,
   "metadata": {},
   "outputs": [
    {
     "data": {
      "text/plain": [
       "(2750,)"
      ]
     },
     "execution_count": 72,
     "metadata": {},
     "output_type": "execute_result"
    }
   ],
   "source": [
    "X_train.shape"
   ]
  },
  {
   "cell_type": "code",
   "execution_count": 73,
   "metadata": {},
   "outputs": [
    {
     "data": {
      "text/plain": [
       "(1355,)"
      ]
     },
     "execution_count": 73,
     "metadata": {},
     "output_type": "execute_result"
    }
   ],
   "source": [
    "X_test.shape"
   ]
  },
  {
   "cell_type": "code",
   "execution_count": 74,
   "metadata": {},
   "outputs": [
    {
     "name": "stderr",
     "output_type": "stream",
     "text": [
      "C:\\Users\\MANSTEIN\\anaconda3\\lib\\site-packages\\sklearn\\feature_extraction\\text.py:383: UserWarning: Your stop_words may be inconsistent with your preprocessing. Tokenizing the stop words generated tokens [''] not in stop_words.\n",
      "  warnings.warn('Your stop_words may be inconsistent with '\n",
      "C:\\Users\\MANSTEIN\\anaconda3\\lib\\site-packages\\sklearn\\feature_extraction\\text.py:383: UserWarning: Your stop_words may be inconsistent with your preprocessing. Tokenizing the stop words generated tokens [''] not in stop_words.\n",
      "  warnings.warn('Your stop_words may be inconsistent with '\n",
      "C:\\Users\\MANSTEIN\\anaconda3\\lib\\site-packages\\sklearn\\feature_extraction\\text.py:383: UserWarning: Your stop_words may be inconsistent with your preprocessing. Tokenizing the stop words generated tokens [''] not in stop_words.\n",
      "  warnings.warn('Your stop_words may be inconsistent with '\n",
      "C:\\Users\\MANSTEIN\\anaconda3\\lib\\site-packages\\sklearn\\feature_extraction\\text.py:383: UserWarning: Your stop_words may be inconsistent with your preprocessing. Tokenizing the stop words generated tokens [''] not in stop_words.\n",
      "  warnings.warn('Your stop_words may be inconsistent with '\n",
      "C:\\Users\\MANSTEIN\\anaconda3\\lib\\site-packages\\sklearn\\feature_extraction\\text.py:383: UserWarning: Your stop_words may be inconsistent with your preprocessing. Tokenizing the stop words generated tokens [''] not in stop_words.\n",
      "  warnings.warn('Your stop_words may be inconsistent with '\n",
      "C:\\Users\\MANSTEIN\\anaconda3\\lib\\site-packages\\sklearn\\feature_extraction\\text.py:383: UserWarning: Your stop_words may be inconsistent with your preprocessing. Tokenizing the stop words generated tokens [''] not in stop_words.\n",
      "  warnings.warn('Your stop_words may be inconsistent with '\n"
     ]
    },
    {
     "name": "stdout",
     "output_type": "stream",
     "text": [
      "Cross Accuracy: 0.28 (+/- 0.03)\n"
     ]
    }
   ],
   "source": [
    "from sklearn.model_selection import ShuffleSplit\n",
    "from sklearn.model_selection import cross_val_score\n",
    "from sklearn import metrics\n",
    "\n",
    "total_data_count = len(data)\n",
    "per_class_counts = []\n",
    "# unique_classes = np.unique(data['idx'].values)\n",
    "unique_classes = np.unique(data['songType'].values)\n",
    "\n",
    "class_count_mean = np.mean(count)\n",
    "\n",
    "###########################3\n",
    "############### classifier setup ################\n",
    "\n",
    "from sklearn.linear_model import SGDClassifier\n",
    "text_clf_svm = Pipeline([\n",
    "    \n",
    "    ('vect', CountVectorizer(stop_words=stopwords,\n",
    "                            analyzer=\"word\", \n",
    "                            lowercase=False,\n",
    "                            token_pattern=\"[\\S]*\",\n",
    "                            tokenizer=None,\n",
    "                            ngram_range=(1, 3),\n",
    "                            preprocessor=None)),                 \n",
    "    ('tfidf', TfidfTransformer()),\n",
    "    ('clf-svm', RandomForestClassifier(max_depth=2, random_state=0)),\n",
    "                                                                        \n",
    "])\n",
    "classifier = text_clf_svm.fit(list(X_train), list(y_train))\n",
    "\n",
    "\n",
    "cv = ShuffleSplit(n_splits=5, test_size=0.3, random_state=0)\n",
    "score = cross_val_score(text_clf_svm, list(X_train), list(y_train), cv=cv)\n",
    "\n",
    "print(\"Cross Accuracy: %0.2f (+/- %0.2f)\" % (score.mean(), score.std() * 2))\n",
    "\n",
    "\n",
    "predicted = classifier.predict(X_test)"
   ]
  },
  {
   "cell_type": "code",
   "execution_count": 75,
   "metadata": {},
   "outputs": [
    {
     "name": "stdout",
     "output_type": "stream",
     "text": [
      "Cross Accuracy: 0.28 (+/- 0.03)\n",
      "              precision    recall  f1-score   support\n",
      "\n",
      "           0       0.00      0.00      0.00         1\n",
      "           1       0.24      1.00      0.39       318\n",
      "           2       0.00      0.00      0.00         2\n",
      "           3       0.00      0.00      0.00       263\n",
      "           4       0.00      0.00      0.00         5\n",
      "           5       0.00      0.00      0.00        20\n",
      "           6       0.00      0.00      0.00        29\n",
      "           7       0.00      0.00      0.00        61\n",
      "           8       0.00      0.00      0.00         5\n",
      "           9       0.00      0.00      0.00        21\n",
      "          10       0.00      0.00      0.00        16\n",
      "          11       0.00      0.00      0.00        20\n",
      "          12       0.00      0.00      0.00        34\n",
      "          13       0.00      0.00      0.00       233\n",
      "          14       0.00      0.00      0.00        19\n",
      "          15       0.00      0.00      0.00         1\n",
      "          16       0.00      0.00      0.00         2\n",
      "          17       0.98      0.14      0.25       278\n",
      "          18       0.00      0.00      0.00         3\n",
      "          19       0.00      0.00      0.00        19\n",
      "          20       0.00      0.00      0.00         5\n",
      "\n",
      "    accuracy                           0.26      1355\n",
      "   macro avg       0.06      0.05      0.03      1355\n",
      "weighted avg       0.26      0.26      0.14      1355\n",
      "\n"
     ]
    },
    {
     "name": "stderr",
     "output_type": "stream",
     "text": [
      "C:\\Users\\MANSTEIN\\anaconda3\\lib\\site-packages\\sklearn\\metrics\\_classification.py:1221: UndefinedMetricWarning: Precision and F-score are ill-defined and being set to 0.0 in labels with no predicted samples. Use `zero_division` parameter to control this behavior.\n",
      "  _warn_prf(average, modifier, msg_start, len(result))\n"
     ]
    }
   ],
   "source": [
    "print(\"Cross Accuracy: %0.2f (+/- %0.2f)\" % (score.mean(), score.std() * 2))\n",
    "print(metrics.classification_report(y_test, predicted))"
   ]
  },
  {
   "cell_type": "code",
   "execution_count": 76,
   "metadata": {},
   "outputs": [
    {
     "name": "stdout",
     "output_type": "stream",
     "text": [
      "21 21\n",
      "21 18\n"
     ]
    }
   ],
   "source": [
    "import pandas as pd\n",
    "confusion_matrix = list(metrics.confusion_matrix(y_test, predicted))\n",
    "\n",
    "print(len(confusion_matrix), len(confusion_matrix[0]))\n",
    "print(len(names), len(names[0]))"
   ]
  },
  {
   "cell_type": "code",
   "execution_count": 77,
   "metadata": {},
   "outputs": [
    {
     "data": {
      "text/plain": [
       "<AxesSubplot:>"
      ]
     },
     "execution_count": 77,
     "metadata": {},
     "output_type": "execute_result"
    },
    {
     "data": {
      "image/png": "[encoded data removed]",
      "text/plain": [
       "<Figure size 1080x720 with 2 Axes>"
      ]
     },
     "metadata": {
      "needs_background": "light"
     },
     "output_type": "display_data"
    }
   ],
   "source": [
    "import seaborn as sn\n",
    "import pandas as pd\n",
    "import matplotlib.pyplot as plt\n",
    "array = confusion_matrix\n",
    "df_cm = pd.DataFrame(array, index = [i for i in names],\n",
    "              columns = [i for i in names])\n",
    "df_norm_col=(df_cm-df_cm.mean())/df_cm.std()\n",
    "#df_norm_col=df_cm-df_cm.mean()\n",
    "plt.figure(figsize = (15,10))\n",
    "sn.heatmap(df_norm_col, annot=True,cmap='viridis')"
   ]
  },
  {
   "cell_type": "code",
   "execution_count": null,
   "metadata": {},
   "outputs": [],
   "source": []
  },
  {
   "cell_type": "code",
   "execution_count": null,
   "metadata": {},
   "outputs": [],
   "source": []
  },
  {
   "cell_type": "code",
   "execution_count": null,
   "metadata": {},
   "outputs": [],
   "source": []
  },
  {
   "cell_type": "code",
   "execution_count": null,
   "metadata": {},
   "outputs": [],
   "source": []
  },
  {
   "cell_type": "code",
   "execution_count": null,
   "metadata": {},
   "outputs": [],
   "source": []
  },
  {
   "cell_type": "code",
   "execution_count": null,
   "metadata": {},
   "outputs": [],
   "source": []
  },
  {
   "cell_type": "code",
   "execution_count": null,
   "metadata": {},
   "outputs": [],
   "source": []
  }
 ],
 "metadata": {
  "kernelspec": {
   "display_name": "Python 3",
   "language": "python",
   "name": "python3"
  },
  "language_info": {
   "codemirror_mode": {
    "name": "ipython",
    "version": 3
   },
   "file_extension": ".py",
   "mimetype": "text/x-python",
   "name": "python",
   "nbconvert_exporter": "python",
   "pygments_lexer": "ipython3",
   "version": "3.8.5"
  }
 },
 "nbformat": 4,
 "nbformat_minor": 4
}
